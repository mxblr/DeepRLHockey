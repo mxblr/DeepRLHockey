{
 "cells": [
  {
   "cell_type": "code",
   "execution_count": 5,
   "metadata": {},
   "outputs": [],
   "source": [
    "from SAC.Normal_Policy import Normal_Policy\n",
    "from SAC.Value_function import Value_function\n",
    "from SAC.SoftActorCritc import SoftActorCritic, plot\n",
    "\n",
    "import time\n",
    "import gym\n",
    "import numpy as np\n",
    "\n",
    "import sys\n",
    "\n",
    "sys.path.insert(0, \"./../../laser-hockey-env\")\n",
    "import laser_hockey_env as lh\n",
    "from importlib import reload\n",
    "import os"
   ]
  },
  {
   "cell_type": "markdown",
   "metadata": {},
   "source": [
    "Choose your environment you want to visualize"
   ]
  },
  {
   "cell_type": "code",
   "execution_count": 6,
   "metadata": {},
   "outputs": [],
   "source": [
    "env_name = \"Laser_hockey\"\n",
    "env = env = lh.LaserHockeyEnv()\n",
    "# env = lh.LaserHockeyEnv(mode=lh.LaserHockeyEnv.TRAIN_DEFENSE)\n",
    "# env = lh.LaserHockeyEnv(mode=lh.LaserHockeyEnv.TRAIN_SHOOTING)"
   ]
  },
  {
   "cell_type": "code",
   "execution_count": 7,
   "metadata": {},
   "outputs": [
    {
     "name": "stdout",
     "output_type": "stream",
     "text": [
      "[-1. -1. -1. -1. -1. -1.]\n",
      "Box(16,)\n"
     ]
    }
   ],
   "source": [
    "ac_space = env.action_space\n",
    "o_space = env.observation_space\n",
    "print(ac_space.low)\n",
    "print(o_space)"
   ]
  },
  {
   "cell_type": "code",
   "execution_count": 8,
   "metadata": {},
   "outputs": [],
   "source": [
    "direct = os.getcwd() + \"/SAC/weights/\"\n",
    "version = \"v2_full_14\"\n",
    "save_path_new = direct + version"
   ]
  },
  {
   "cell_type": "code",
   "execution_count": 9,
   "metadata": {},
   "outputs": [
    {
     "name": "stdout",
     "output_type": "stream",
     "text": [
      "INFO:tensorflow:Restoring parameters from C:\\Users\\Maximilian\\Documents\\Studium\\Informatik\\3. Semester\\Intelligent Systems\\project\\DeepRLHockey\\code/SAC/weights/v2_full_14\n",
      "restored\n"
     ]
    }
   ],
   "source": [
    "q_fct_config = {\"hidden_layers\": [256, 256]}\n",
    "v_fct_config = {\"hidden_layers\": [256, 256]}\n",
    "pi_fct_config = {\"hidden_layers\": [256, 256], \"dim\": 3, \"output_act_fct_mu\": None}\n",
    "\n",
    "SAC_agent = SoftActorCritic(\n",
    "    o_space=o_space,\n",
    "    a_space=ac_space,\n",
    "    env=env,\n",
    "    value_fct=Value_function,\n",
    "    policy_fct=Normal_Policy,\n",
    "    dim_act=3,\n",
    "    dim_obs=16,\n",
    "    q_fct_config=q_fct_config,\n",
    "    v_fct_config=v_fct_config,\n",
    "    pi_fct_config=pi_fct_config,\n",
    "    save_path=save_path_new,\n",
    ")"
   ]
  },
  {
   "cell_type": "code",
   "execution_count": 10,
   "metadata": {},
   "outputs": [],
   "source": [
    "player2 = lh.BasicOpponent()"
   ]
  },
  {
   "cell_type": "code",
   "execution_count": 11,
   "metadata": {},
   "outputs": [],
   "source": [
    "def eval_agent(n=100):\n",
    "    win = 0\n",
    "    draw = 0\n",
    "    lose = 0\n",
    "    for i in range(n):\n",
    "        ob = env.reset()\n",
    "\n",
    "        for _ in range(500):\n",
    "            env.render()\n",
    "            obs_agent2 = env.obs_agent_two()\n",
    "            a1 = SAC_agent.act_greedy(np.asarray(ob).reshape(1, SAC_agent._config[\"dim_obs\"]))[0]\n",
    "            a2 = player2.act(obs_agent2)\n",
    "\n",
    "            ob, r, d, info = env.step(np.hstack([a1, a2]))\n",
    "            if d:\n",
    "                win += info[\"winner\"] == 1\n",
    "                lose += info[\"winner\"] == -1\n",
    "                break\n",
    "        draw += info[\"winner\"] == 0\n",
    "\n",
    "    env.close()\n",
    "    return win / n, draw / n, lose / n"
   ]
  },
  {
   "cell_type": "code",
   "execution_count": 15,
   "metadata": {},
   "outputs": [
    {
     "data": {
      "text/plain": [
       "(1.0, 0.0, 0.0)"
      ]
     },
     "execution_count": 15,
     "metadata": {},
     "output_type": "execute_result"
    }
   ],
   "source": [
    "eval_agent(1)"
   ]
  }
 ],
 "metadata": {
  "kernelspec": {
   "display_name": "Python 3",
   "language": "python",
   "name": "python3"
  },
  "language_info": {
   "codemirror_mode": {
    "name": "ipython",
    "version": 3
   },
   "file_extension": ".py",
   "mimetype": "text/x-python",
   "name": "python",
   "nbconvert_exporter": "python",
   "pygments_lexer": "ipython3",
   "version": "3.6.8"
  }
 },
 "nbformat": 4,
 "nbformat_minor": 2
}
