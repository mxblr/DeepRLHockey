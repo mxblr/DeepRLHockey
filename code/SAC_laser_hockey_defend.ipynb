{
 "cells": [
  {
   "cell_type": "code",
   "execution_count": 1,
   "metadata": {},
   "outputs": [],
   "source": [
    "from SAC.Normal_Policy import Normal_Policy\n",
    "from SAC.Value_function import Value_function\n",
    "from SAC.SoftActorCritc import SoftActorCritic, plot\n",
    "\n",
    "import time\n",
    "import gym\n",
    "import numpy as np\n",
    "\n",
    "import sys\n",
    "sys.path.insert(0, './../../laser-hockey-env')\n",
    "import laser_hockey_env as lh\n",
    "from importlib import reload\n"
   ]
  },
  {
   "cell_type": "code",
   "execution_count": 2,
   "metadata": {},
   "outputs": [],
   "source": [
    "env = lh.LaserHockeyEnv(mode=lh.LaserHockeyEnv.TRAIN_DEFENSE)"
   ]
  },
  {
   "cell_type": "code",
   "execution_count": 3,
   "metadata": {},
   "outputs": [
    {
     "name": "stdout",
     "output_type": "stream",
     "text": [
      "[-1. -1. -1. -1. -1. -1.]\n",
      "Box(16,)\n"
     ]
    }
   ],
   "source": [
    "ac_space = env.action_space\n",
    "o_space = env.observation_space\n",
    "print(ac_space.low)\n",
    "print(o_space)"
   ]
  },
  {
   "cell_type": "code",
   "execution_count": 4,
   "metadata": {},
   "outputs": [],
   "source": [
    "q_fct_config = {\"hidden_layers\": [256, 256]}\n",
    "v_fct_config = {\"hidden_layers\": [256, 256]}\n",
    "pi_fct_config = {\"hidden_layers\": [256, 256], \"dim\":3}\n",
    "\n",
    "SAC_agent = SoftActorCritic(o_space=o_space, \n",
    "                            a_space=ac_space, \n",
    "                            value_fct=Value_function, \n",
    "                            policy_fct=Normal_Policy, \n",
    "                            env= env,\n",
    "                            discount=  0.95, \n",
    "                            tau = 0.01, \n",
    "                            batch_size=256, \n",
    "                            alpha = 0.1,\n",
    "                            lambda_V = 3e-4, \n",
    "                            lambda_Pi = 3e-4, \n",
    "                            lambda_Q = 3e-4,\n",
    "                            dim_act = 3,\n",
    "                            dim_obs = 20,\n",
    "                            q_fct_config=q_fct_config,\n",
    "                            v_fct_config=v_fct_config,\n",
    "                            pi_fct_config=pi_fct_config  ) "
   ]
  },
  {
   "cell_type": "code",
   "execution_count": 7,
   "metadata": {},
   "outputs": [],
   "source": [
    "import progressbar\n",
    "\n",
    "def train(iter_fit=1000, max_steps= 500, env_steps = 1, grad_steps = 1, burn_in =1000):\n",
    "        bar = progressbar.ProgressBar(max_value=iter_fit)\n",
    "        # Initilalize target V network\n",
    "        SAC_agent._sess.run(SAC_agent._update_target_V_ops_hard)\n",
    "        # Init Statistics      \n",
    "        total_rewards_per_episode = [] \n",
    "        total_loss_V = []\n",
    "        total_loss_Q1 = []\n",
    "        total_loss_Q2 = []\n",
    "        total_loss_PI = []\n",
    "        winner = []\n",
    "        moving_avg_winner =np.zeros(20)\n",
    "        \n",
    "        \n",
    "        j = 0\n",
    "        for i in range(iter_fit):\n",
    "            \n",
    "            ob = env.reset()\n",
    "            distance_to_opponent = np.sqrt((ob[6] -ob[0])**2 + (ob[7] -ob[1])**2)\n",
    "            distance_to_puck = np.sqrt((ob[12] -ob[0])**2 + (ob[13] -ob[1])**2)\n",
    "            angle_to_opponent = np.arctan2((ob[7] -ob[1]),(ob[6] -ob[0])) - ob[2]\n",
    "            angle_to_puck = np.arctan2((ob[13] -ob[1]),(ob[12] -ob[0])) - ob[2]\n",
    "            ob = np.append(ob, [distance_to_opponent, distance_to_puck,angle_to_opponent, angle_to_puck] )\n",
    "                    \n",
    "                    \n",
    "                    \n",
    "            total_reward = 0\n",
    "            \n",
    "            puck_hit = 0.0\n",
    "            puck_hit_once = False\n",
    "            for _ in range(max_steps):\n",
    "                for e_i in range(env_steps):#\n",
    "                    #0 x pos player one\n",
    "                    #1 y pos player one\n",
    "                    #2 angle player one\n",
    "                    #3 x vel player one\n",
    "                    #4 y vel player one\n",
    "                    #5 angular vel player one\n",
    "                    #6 x player two\n",
    "                    #7 y player two\n",
    "                    #8 angle player two\n",
    "                    #9 y vel player two\n",
    "                    #10 y vel player two\n",
    "                    #11 angular vel player two\n",
    "                    #12 x pos puck\n",
    "                    #13 y pos puck\n",
    "                    #14 x vel puck\n",
    "                    #15 y vel puck\n",
    "                    #print(ob)\n",
    "                    #env.render()\n",
    "                    if j < burn_in:\n",
    "                        a = env.action_space.sample()\n",
    "                        a = a[:3]\n",
    "                        #a = self.reverse_action(a)    \n",
    "                                        \n",
    "                    else:\n",
    "                        a = SAC_agent.action(np.asarray(ob).reshape(1, SAC_agent._config[\"dim_obs\"]))\n",
    "                        a = a[0]\n",
    "                    a2 = [np.random.uniform(-0.5,0.5,1)[0],np.random.uniform(-0.5,0.5,1)[0],np.random.uniform(-0.1,0.1,1)[0]]  \n",
    "                    comb_a = np.hstack([a,a2])\n",
    "                    \n",
    "                    \n",
    "                    \n",
    "                    (ob_new, reward, done, _info) = env.step(comb_a)\n",
    "                    #reward += _info['winner']*1+  + _info['reward_closeness_to_puck']*1.  + _info['reward_touch_puck']*1  + _info['reward_puck_direction']*1\n",
    "                    puck_hit_once = puck_hit_once or _info['reward_touch_puck']\n",
    "                    puck_hit *= 0.9\n",
    "                    puck_hit = max(puck_hit , _info['reward_touch_puck'])\n",
    "                    \n",
    "                    \n",
    "                    reward =  abs(min(_info['winner'], puck_hit_once)) *reward  + (1- puck_hit)*_info['reward_closeness_to_puck']  #+ _info['reward_puck_direction']\n",
    "                    \n",
    "                    #reward += _info['reward_touch_puck']\n",
    "                    \n",
    "                    distance_to_opponent = np.sqrt((ob_new[6] -ob_new[0])**2 + (ob_new[7] -ob_new[1])**2)\n",
    "                    distance_to_puck = np.sqrt((ob_new[12] -ob_new[0])**2 + (ob_new[13] -ob_new[1])**2)\n",
    "                    angle_to_opponent = np.arctan2((ob_new[7] -ob_new[1]),(ob_new[6] -ob_new[0])) - ob_new[2]\n",
    "                    angle_to_puck = np.arctan2((ob_new[13] -ob_new[1]),(ob_new[12] -ob_new[0])) - ob_new[2]\n",
    "                    ob_new = np.append(ob_new, [distance_to_opponent, distance_to_puck,angle_to_opponent, angle_to_puck] )\n",
    "            \n",
    "                    \n",
    "                    total_reward += reward\n",
    "                    \n",
    "                    SAC_agent.store_transition(ob, a, reward, ob_new, done)\n",
    "                    ob=ob_new\n",
    "  \n",
    "                if j  >= SAC_agent._config[\"batch_size\"]:\n",
    "                    for g_i in range(grad_steps):\n",
    "                        update_value_target = False\n",
    "                        if i % SAC_agent._config[\"target_update\"] == 0:\n",
    "                            update_value_target = True\n",
    "                        loss_V_fct, loss_Q1_fct,loss_Q2_fct,loss_PI_fct= SAC_agent._train(update_value_target)\n",
    "                        #total_loss_V.append(loss_V_fct)\n",
    "                        #total_loss_Q1.append(loss_Q1_fct)\n",
    "                        #total_loss_Q2.append(loss_Q2_fct)\n",
    "                        #total_loss_PI.append(loss_PI_fct)  \n",
    "                        \n",
    "                j += 1\n",
    "                if done:\n",
    "                    break \n",
    "            moving_avg_winner[i%20]=((_info['winner']+1)/2.0)/20\n",
    "            winner.append(sum(moving_avg_winner))\n",
    "            total_rewards_per_episode.append(total_reward)\n",
    "            if i % 1 == 0:\n",
    "                plot(total_rewards_per_episode,winning=winner, plot_type = 2) \n",
    "            bar.update(i)   \n",
    "        return total_rewards_per_episode"
   ]
  },
  {
   "cell_type": "code",
   "execution_count": null,
   "metadata": {},
   "outputs": [
    {
     "data": {
      "image/png": "[encoded data removed]",
      "text/plain": [
       "<Figure size 432x288 with 2 Axes>"
      ]
     },
     "metadata": {
      "needs_background": "light"
     },
     "output_type": "display_data"
    },
    {
     "name": "stderr",
     "output_type": "stream",
     "text": [
      "\r",
      "                                                                               \r",
      "\r",
      " 19% (193 of 1000) |####                 | Elapsed Time: 0:19:44 ETA:   0:25:23"
     ]
    }
   ],
   "source": [
    "train()"
   ]
  },
  {
   "cell_type": "code",
   "execution_count": 7,
   "metadata": {},
   "outputs": [],
   "source": [
    "env.close()"
   ]
  },
  {
   "cell_type": "code",
   "execution_count": 8,
   "metadata": {},
   "outputs": [
    {
     "data": {
      "text/plain": [
       "True"
      ]
     },
     "execution_count": 8,
     "metadata": {},
     "output_type": "execute_result"
    }
   ],
   "source": [
    "ob = env.reset()\n",
    "env.render()"
   ]
  },
  {
   "cell_type": "code",
   "execution_count": 7,
   "metadata": {},
   "outputs": [
    {
     "name": "stdout",
     "output_type": "stream",
     "text": [
      "Player 2 scored\n",
      "Player 2 scored\n",
      "Player 2 scored\n",
      "Player 2 scored\n",
      "Player 2 scored\n",
      "Player 2 scored\n",
      "Player 1 scored\n"
     ]
    }
   ],
   "source": [
    "\n",
    "for i in range(10):\n",
    "    ob = env.reset()\n",
    "    for _ in range(1000):\n",
    "        env.render()\n",
    "        distance_to_opponent = np.sqrt((ob[6] -ob[0])**2 + (ob[7] -ob[1])**2)\n",
    "        distance_to_puck = np.sqrt((ob[12] -ob[0])**2 + (ob[13] -ob[1])**2)\n",
    "        angle_to_opponent = np.arctan2((ob[7] -ob[1]),(ob[6] -ob[0])) - ob[2]\n",
    "        angle_to_puck = np.arctan2((ob[13] -ob[1]),(ob[12] -ob[0])) - ob[2]\n",
    "        ob = np.append(ob, [distance_to_opponent, distance_to_puck,angle_to_opponent, angle_to_puck] )\n",
    "            \n",
    "        a = SAC_agent.action(np.asarray(ob).reshape(1, SAC_agent._config[\"dim_obs\"]))\n",
    "        a1 = a[0]\n",
    "        a2 = [np.random.uniform(-0.5,0.5,1)[0],np.random.uniform(-0.5,0.5,1)[0],np.random.uniform(-0.1,0.1,1)[0]]  \n",
    "                    \n",
    "        ob, r, d, info = env.step(np.hstack([a1,a2]))    \n",
    "        obs_agent2 = env.obs_agent_two()\n",
    "        if d: break\n",
    "env.close()"
   ]
  },
  {
   "cell_type": "code",
   "execution_count": null,
   "metadata": {},
   "outputs": [],
   "source": []
  }
 ],
 "metadata": {
  "kernelspec": {
   "display_name": "Python 3",
   "language": "python",
   "name": "python3"
  },
  "language_info": {
   "codemirror_mode": {
    "name": "ipython",
    "version": 3
   },
   "file_extension": ".py",
   "mimetype": "text/x-python",
   "name": "python",
   "nbconvert_exporter": "python",
   "pygments_lexer": "ipython3",
   "version": "3.6.8"
  }
 },
 "nbformat": 4,
 "nbformat_minor": 2
}
