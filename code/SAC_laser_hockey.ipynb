{
 "cells": [
  {
   "cell_type": "code",
   "execution_count": 1,
   "metadata": {},
   "outputs": [],
   "source": [
    "from SAC.Normal_Policy import Normal_Policy\n",
    "from SAC.Value_function import Value_function\n",
    "from SAC.SoftActorCritc import SoftActorCritic, plot\n",
    "\n",
    "import time\n",
    "import gym\n",
    "import numpy as np\n",
    "\n",
    "import sys\n",
    "sys.path.insert(0, './laser-hockey-env')\n",
    "import laser_hockey_env as lh\n",
    "from importlib import reload\n"
   ]
  },
  {
   "cell_type": "code",
   "execution_count": 2,
   "metadata": {},
   "outputs": [],
   "source": [
    "env = lh.LaserHockeyEnv(mode=lh.LaserHockeyEnv.TRAIN_SHOOTING)"
   ]
  },
  {
   "cell_type": "code",
   "execution_count": 3,
   "metadata": {},
   "outputs": [
    {
     "name": "stdout",
     "output_type": "stream",
     "text": [
      "[-1. -1. -1. -1. -1. -1.]\n",
      "Box(16,)\n"
     ]
    }
   ],
   "source": [
    "ac_space = env.action_space\n",
    "o_space = env.observation_space\n",
    "print(ac_space.low)\n",
    "print(o_space)"
   ]
  },
  {
   "cell_type": "code",
   "execution_count": 4,
   "metadata": {},
   "outputs": [],
   "source": [
    "q_fct_config = {\"hidden_layers\": [300, 300]}\n",
    "v_fct_config = {\"hidden_layers\": [300, 400]}\n",
    "pi_fct_config = {\"hidden_layers\": [200, 200], \"dim\":3}\n",
    "\n",
    "SAC_agent = SoftActorCritic(o_space=o_space, \n",
    "                            a_space=ac_space, \n",
    "                            value_fct=Value_function, \n",
    "                            policy_fct=Normal_Policy, \n",
    "                            env= env,\n",
    "                            discount=  0.99, \n",
    "                            tau = 0.01, \n",
    "                            batch_size=256, \n",
    "                            alpha = 0.4,\n",
    "                            lambda_V = 1e-3, \n",
    "                            lambda_Pi = 1e-3, \n",
    "                            lambda_Q = 1e-3,\n",
    "                            dim = 3,\n",
    "                            q_fct_config=q_fct_config,\n",
    "                            v_fct_config=v_fct_config,\n",
    "                            pi_fct_config=pi_fct_config  ) "
   ]
  },
  {
   "cell_type": "code",
   "execution_count": null,
   "metadata": {},
   "outputs": [],
   "source": [
    "import progressbar\n",
    "\n",
    "def train(iter_fit=1000, max_steps= 500, env_steps = 1, grad_steps = 1, burn_in =1000):\n",
    "        bar = progressbar.ProgressBar(max_value=iter_fit)\n",
    "        # Initilalize target V network\n",
    "        SAC_agent._sess.run(SAC_agent._update_target_V_ops_hard)\n",
    "        # Init Statistics      \n",
    "        total_rewards_per_episode = [] \n",
    "        total_loss_V = []\n",
    "        total_loss_Q1 = []\n",
    "        total_loss_Q2 = []\n",
    "        total_loss_PI = []\n",
    "        \n",
    "        \n",
    "        j = 0\n",
    "        for i in range(iter_fit):\n",
    "            \n",
    "            ob = env.reset() \n",
    "            total_reward = 0\n",
    "            for _ in range(max_steps):\n",
    "                for e_i in range(env_steps):#\n",
    "                    #env.render()\n",
    "                    if j < burn_in:\n",
    "                        a = env.action_space.sample()\n",
    "                        a = a[:3]\n",
    "                        #a = self.reverse_action(a)    \n",
    "                                        \n",
    "                    else:\n",
    "                        a = SAC_agent.action(np.asarray(ob).reshape(1, SAC_agent._o_space.shape[0]))\n",
    "                        a = a[0]\n",
    "                    a2 = [0,0.,0]  \n",
    "                    comb_a = np.hstack([a,a2])\n",
    "                    (ob_new, reward, done, _info) = env.step(comb_a)\n",
    "                    reward += _info['winner']*1+  + _info['reward_closeness_to_puck']*1.  + _info['reward_touch_puck']*1  + _info['reward_puck_direction']*1\n",
    "                    total_reward += reward\n",
    "                    SAC_agent.store_transition(ob, a, reward, ob_new, done)\n",
    "                    ob=ob_new\n",
    "  \n",
    "                if j  >= SAC_agent._config[\"batch_size\"]:\n",
    "                    for g_i in range(grad_steps):\n",
    "                        update_value_target = False\n",
    "                        if i % SAC_agent._config[\"target_update\"] == 0:\n",
    "                            update_value_target = True\n",
    "                        loss_V_fct, loss_Q1_fct,loss_Q2_fct,loss_PI_fct= SAC_agent._train(update_value_target)\n",
    "                        total_loss_V.append(loss_V_fct)\n",
    "                        total_loss_Q1.append(loss_Q1_fct)\n",
    "                        total_loss_Q2.append(loss_Q2_fct)\n",
    "                        total_loss_PI.append(loss_PI_fct)        \n",
    "                j += 1\n",
    "                if done:\n",
    "                    break   \n",
    "            total_rewards_per_episode.append(total_reward)\n",
    "            if i % 1 == 0:\n",
    "                plot(total_rewards_per_episode,total_loss_V,total_loss_Q1, total_loss_Q2, total_loss_PI) \n",
    "            bar.update(i)   \n",
    "        return total_rewards_per_episode"
   ]
  },
  {
   "cell_type": "code",
   "execution_count": null,
   "metadata": {},
   "outputs": [
    {
     "data": {
      "image/png": "[encoded data removed]",
      "text/plain": [
       "<Figure size 432x288 with 4 Axes>"
      ]
     },
     "metadata": {
      "needs_background": "light"
     },
     "output_type": "display_data"
    },
    {
     "name": "stderr",
     "output_type": "stream",
     "text": [
      "\r",
      "                                                                               \r",
      "\r",
      "  2% (25 of 1000) |                      | Elapsed Time: 0:04:44 ETA:   3:30:24"
     ]
    }
   ],
   "source": [
    "train()"
   ]
  },
  {
   "cell_type": "code",
   "execution_count": null,
   "metadata": {},
   "outputs": [],
   "source": [
    "env.close()"
   ]
  },
  {
   "cell_type": "code",
   "execution_count": null,
   "metadata": {},
   "outputs": [],
   "source": [
    "ob = env.reset()\n",
    "env.render()"
   ]
  },
  {
   "cell_type": "code",
   "execution_count": null,
   "metadata": {},
   "outputs": [],
   "source": [
    "for _ in range(1000):\n",
    "    env.render()\n",
    "    a = SAC_agent.act_greedy(np.asarray(ob).reshape(1, SAC_agent._o_space.shape[0]))\n",
    "    a1 = a[0]\n",
    "    a2 = [0,0,0] \n",
    "    obs, r, d, info = env.step(np.hstack([a1,a2]))    \n",
    "    obs_agent2 = env.obs_agent_two()\n",
    "    if d: break\n",
    "env.close()"
   ]
  },
  {
   "cell_type": "code",
   "execution_count": null,
   "metadata": {},
   "outputs": [],
   "source": []
  }
 ],
 "metadata": {
  "kernelspec": {
   "display_name": "Python 3",
   "language": "python",
   "name": "python3"
  },
  "language_info": {
   "codemirror_mode": {
    "name": "ipython",
    "version": 3
   },
   "file_extension": ".py",
   "mimetype": "text/x-python",
   "name": "python",
   "nbconvert_exporter": "python",
   "pygments_lexer": "ipython3",
   "version": "3.6.8"
  }
 },
 "nbformat": 4,
 "nbformat_minor": 2
}
